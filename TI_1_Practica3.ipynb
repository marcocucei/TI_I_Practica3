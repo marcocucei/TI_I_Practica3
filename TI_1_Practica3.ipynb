{
  "cells": [
    {
      "cell_type": "markdown",
      "metadata": {
        "id": "view-in-github",
        "colab_type": "text"
      },
      "source": [
        "<a href=\"https://colab.research.google.com/github/marcocucei/TI_I_Practica3/blob/main/TI_1_Practica3.ipynb\" target=\"_parent\"><img src=\"https://colab.research.google.com/assets/colab-badge.svg\" alt=\"Open In Colab\"/></a>"
      ]
    },
    {
      "cell_type": "markdown",
      "id": "bbeb0c1e",
      "metadata": {
        "id": "bbeb0c1e"
      },
      "source": [
        "# Práctica 3\n",
        "\n",
        "**Nombre:** Marco Antonio Hernández Preciado  \n",
        "**e-mail:** marco.hpreciado@alumnos.udg.mx"
      ]
    },
    {
      "cell_type": "markdown",
      "id": "a31326d0",
      "metadata": {
        "id": "a31326d0"
      },
      "source": [
        "## MODULES"
      ]
    },
    {
      "cell_type": "code",
      "execution_count": 1,
      "id": "9c33a472",
      "metadata": {
        "id": "9c33a472"
      },
      "outputs": [],
      "source": [
        "import math\n",
        "import numpy as np\n",
        "import pandas as pd\n",
        "\n",
        "import plotly.graph_objects as go\n",
        "\n",
        "from scipy.stats import wrapcauchy\n",
        "from scipy.stats import levy_stable\n",
        "\n",
        "from scipy.spatial import distance"
      ]
    },
    {
      "cell_type": "markdown",
      "id": "eea985c3",
      "metadata": {
        "id": "eea985c3"
      },
      "source": [
        "## CLASSES"
      ]
    },
    {
      "cell_type": "code",
      "execution_count": null,
      "id": "e2ee1ad4",
      "metadata": {
        "id": "e2ee1ad4"
      },
      "outputs": [],
      "source": [
        "################# http://www.pygame.org/wiki/2DVectorClass ##################\n",
        "class Vec2d(object):\n",
        "    \"\"\"2d vector class, supports vector and scalar operators,\n",
        "       and also provides a bunch of high level functions\n",
        "       \"\"\"\n",
        "    __slots__ = ['x', 'y']\n",
        "\n",
        "    def __init__(self, x_or_pair, y = None):\n",
        "        if y == None:\n",
        "            self.x = x_or_pair[0]\n",
        "            self.y = x_or_pair[1]\n",
        "        else:\n",
        "            self.x = x_or_pair\n",
        "            self.y = y\n",
        "\n",
        "    # Addition\n",
        "    def __add__(self, other):\n",
        "        if isinstance(other, Vec2d):\n",
        "            return Vec2d(self.x + other.x, self.y + other.y)\n",
        "        elif hasattr(other, \"__getitem__\"):\n",
        "            return Vec2d(self.x + other[0], self.y + other[1])\n",
        "        else:\n",
        "            return Vec2d(self.x + other, self.y + other)\n",
        "\n",
        "    # Subtraction\n",
        "    def __sub__(self, other):\n",
        "        if isinstance(other, Vec2d):\n",
        "            return Vec2d(self.x - other.x, self.y - other.y)\n",
        "        elif (hasattr(other, \"__getitem__\")):\n",
        "            return Vec2d(self.x - other[0], self.y - other[1])\n",
        "        else:\n",
        "            return Vec2d(self.x - other, self.y - other)\n",
        "\n",
        "    # Vector length\n",
        "    def get_length(self):\n",
        "        return math.sqrt(self.x**2 + self.y**2)\n",
        "\n",
        "    # rotate vector\n",
        "    def rotated(self, angle):\n",
        "        cos = math.cos(angle)\n",
        "        sin = math.sin(angle)\n",
        "        x = self.x*cos - self.y*sin\n",
        "        y = self.x*sin + self.y*cos\n",
        "        return Vec2d(x, y)"
      ]
    },
    {
      "cell_type": "markdown",
      "id": "9f102d39",
      "metadata": {
        "id": "9f102d39"
      },
      "source": [
        "## FUNCTIONS"
      ]
    },
    {
      "cell_type": "code",
      "execution_count": 4,
      "id": "74b6b78e",
      "metadata": {
        "id": "74b6b78e"
      },
      "outputs": [],
      "source": [
        "###############################################################################################\n",
        "# Turning angle\n",
        "# This function calculates the turning angle between three consecutive positions\n",
        "###############################################################################################\n",
        "def turning_angle(pos_a, pos_b, pos_c):\n",
        "    \"\"\"\n",
        "    Arguments:\n",
        "        pos_a: First position coordinates\n",
        "        pos_b: Second position coordinates\n",
        "        pos_c: Third position coordinates\n",
        "    Returns:\n",
        "        theta: Turning angle\n",
        "    \"\"\"\n",
        "    vec_ab = pos_b - pos_a\n",
        "    norm_ab = np.linalg.norm(vec_ab)\n",
        "\n",
        "    vec_bc = pos_c - pos_b\n",
        "    norm_bc = np.linalg.norm(vec_bc)\n",
        "\n",
        "    dot_p = np.dot(vec_ab, vec_bc)\n",
        "\n",
        "    # Nota: Evitar division por cero con np.finfo(float).eps\n",
        "    cos_theta = dot_p / (norm_ab*norm_bc + np.finfo(float).eps)\n",
        "\n",
        "    # Angle orientation\n",
        "    cross_p = np.cross(vec_ab, vec_bc)\n",
        "    orient = np.sign(cross_p)\n",
        "    if orient == 0:\n",
        "        orient = 1\n",
        "\n",
        "    theta = np.arccos(np.around(cos_theta,4)) * orient\n",
        "    return theta\n",
        "\n"
      ]
    },
    {
      "cell_type": "markdown",
      "id": "680109c9",
      "metadata": {
        "id": "680109c9"
      },
      "source": [
        "## Actividad 1: Path Length - (BM1 vs BM2 vs CRW) (4 pts)\n",
        "\n",
        "* Implementar función que genere **Brownian Motions** (BM) utilizando **pandas**.\n",
        "* Implementar función que genere **Correlated Random Walks** (CRW) utilizando pandas.\n",
        "* Implementar una función alternativa a las ya disponibles en los distintos modulos de python que calcule los valores de la curva de **path length** de una trayectoria.\n",
        "* Guardar los valores de la métrica en un Data Frame de **pandas**.\n",
        "* Visualizar con **plotly**."
      ]
    },
    {
      "cell_type": "code",
      "execution_count": null,
      "id": "58627d1c",
      "metadata": {
        "id": "58627d1c"
      },
      "outputs": [],
      "source": [
        "# Load existing trajectories to test your implementation\n",
        "# BM speed = 3\n",
        "BM_2d_df_3 = pd.read_csv('trajectories/brownian_3.csv')\n",
        "\n",
        "# Load existing trajectories to test your implementation\n",
        "# BM speed = 6\n",
        "BM_2d_df_6 = pd.read_csv('trajectories/brownian_6.csv')\n",
        "\n",
        "# Load existing trajectories to test your implementation\n",
        "CRW_2d_df_9 = pd.read_csv('trajectories/crw_6_9.csv')"
      ]
    },
    {
      "cell_type": "code",
      "execution_count": null,
      "id": "02014f44",
      "metadata": {
        "id": "02014f44"
      },
      "outputs": [],
      "source": [
        "# Define your function to compute path length for given trajectory\n",
        "\n",
        "## start - Add your code here\n",
        "# def function (trajectory):\n",
        "\n",
        "\n",
        "    #return path_length_df\n",
        "\n",
        "## end - Add your code here"
      ]
    },
    {
      "cell_type": "code",
      "execution_count": null,
      "id": "d2b16522",
      "metadata": {
        "id": "d2b16522"
      },
      "outputs": [],
      "source": [
        "# Get Path length calling the function\n",
        "PL_BM_3 = # Add your code here function(BM_2d_df_3)\n",
        "\n",
        "# Get Path length calling the function\n",
        "PL_BM_6 = # Add your code here function(BM_2d_df_6)\n",
        "\n",
        "# Get Path length calling the function\n",
        "PL_CRW_6 = # Add your code here function(CRW_2d_df_9)"
      ]
    },
    {
      "cell_type": "code",
      "execution_count": null,
      "id": "682d77ce",
      "metadata": {
        "id": "682d77ce"
      },
      "outputs": [],
      "source": [
        "# Plotting\n",
        "# Init figure\n",
        "fig_path_length = go.Figure()\n",
        "\n",
        "# First trace BM1\n",
        "## start - Add your code here\n",
        "\n",
        "## end - Add your code here\n",
        "\n",
        "\n",
        "# Second trace BM2\n",
        "## start - Add your code here\n",
        "\n",
        "## end - Add your code here\n",
        "\n",
        "\n",
        "# Third trace CRW\n",
        "## start - Add your code here\n",
        "\n",
        "## end - Add your code here\n",
        "\n",
        "\n",
        "fig_path_length.show()"
      ]
    },
    {
      "cell_type": "markdown",
      "id": "c4ea7d32",
      "metadata": {
        "id": "c4ea7d32"
      },
      "source": [
        "## Actividad 2: Mean Squared Displacement - (Brownian vs CRW) (4 pts)\n",
        "\n",
        "* Generar una trayectoria tipo **BM** y una **CRW**.\n",
        "* Implementar una función que calcule los valores de la curva de **mean squared displacement** de una trayectoria.\n",
        "* Guardar metricas en Pandas Data Frame.\n",
        "* Visualizar con **plotly**."
      ]
    },
    {
      "cell_type": "code",
      "execution_count": null,
      "id": "7c5082a3",
      "metadata": {
        "id": "7c5082a3"
      },
      "outputs": [],
      "source": [
        "# Load existing trajectories to test your implementation\n",
        "# BM speed = 6\n",
        "BM_2d_df_6 = pd.read_csv('trajectories/brownian_6.csv')\n",
        "\n",
        "# Load existing trajectories to test your implementation\n",
        "# CRW speed = 6, c = 0.9\n",
        "CRW_2d_df_9 = pd.read_csv('trajectories/crw_6_9.csv')"
      ]
    },
    {
      "cell_type": "code",
      "execution_count": null,
      "id": "b0cabe00",
      "metadata": {
        "id": "b0cabe00"
      },
      "outputs": [],
      "source": [
        "# Show trajectories\n",
        "# Init figure\n",
        "fig_3d = go.Figure()\n",
        "\n",
        "# Plot trajectory in 3-D space\n",
        "fig_3d.add_trace(\n",
        "    go.Scatter3d(x = BM_2d_df_6.x_pos,\n",
        "                 y = BM_2d_df_6.y_pos,\n",
        "                 z = BM_2d_df_6.index,\n",
        "                 marker = dict(size=2),\n",
        "                 line = dict(color='blue', width=2),\n",
        "                 mode = 'lines',\n",
        "                 name = 'BM 2d',\n",
        "                 showlegend = True))\n",
        "\n",
        "\n",
        "fig_3d.add_trace(\n",
        "    go.Scatter3d(x = CRW_2d_df_9.x_pos,\n",
        "                 y = CRW_2d_df_9.y_pos,\n",
        "                 z = CRW_2d_df_9.index,\n",
        "                 marker = dict(size=2),\n",
        "                 line = dict(color='red', width=2),\n",
        "                 mode = 'lines',\n",
        "                 name = 'CRW 2d',\n",
        "                 showlegend = True))\n",
        "\n",
        "fig_3d.show()"
      ]
    },
    {
      "cell_type": "code",
      "execution_count": null,
      "id": "c3b6784f",
      "metadata": {
        "id": "c3b6784f"
      },
      "outputs": [],
      "source": [
        "# Define your function to compute Mean Squared Displacement for given trajectory\n",
        "\n",
        "## start - Add your code here\n",
        "# def function (trajectory):\n",
        "\n",
        "\n",
        "    #return MSD_df\n",
        "\n",
        "## end - Add your code here"
      ]
    },
    {
      "cell_type": "code",
      "execution_count": null,
      "id": "9d898baf",
      "metadata": {
        "id": "9d898baf"
      },
      "outputs": [],
      "source": [
        "# Get Mean Squared Displacement calling the function\n",
        "MSD_BM = # Add your code here function(BM_2d_df_6)\n",
        "\n",
        "# Get Mean Squared Displacement calling the function\n",
        "MSD_CRW = # Add your code here function(CRW_2d_df_9)"
      ]
    },
    {
      "cell_type": "code",
      "execution_count": null,
      "id": "128360f4",
      "metadata": {
        "id": "128360f4"
      },
      "outputs": [],
      "source": [
        "# Init figure\n",
        "fig_path_length = go.Figure()\n",
        "\n",
        "# first trace MSD_BM\n",
        "## start - Add your code here\n",
        "\n",
        "## end - Add your code here\n",
        "\n",
        "\n",
        "# Second trace MSD_CRW\n",
        "## start - Add your code here\n",
        "\n",
        "## end - Add your code here\n",
        "\n",
        "\n",
        "fig_path_length.show()"
      ]
    },
    {
      "cell_type": "markdown",
      "id": "bcc0bb18",
      "metadata": {
        "id": "bcc0bb18"
      },
      "source": [
        "## Actividad 3: Turning-angle Distribution - (Dist. origen vs Dist. observada) (6 pts)\n",
        "\n",
        "* Generar **CRWs** con dos exponentes diferentes\n",
        "* Guardar trayectorias en **Pandas** Data Frame\n",
        "* Implementar una función que calcule los valores de **turning angle** de una trayectoria.\n",
        "* Comparar en gráfica distribución origen vs distribución observada (Histograma)\n",
        "* Visualizar con **plotly**"
      ]
    },
    {
      "cell_type": "code",
      "execution_count": null,
      "id": "147f549b",
      "metadata": {
        "id": "147f549b"
      },
      "outputs": [],
      "source": [
        "# Load existing trajectories to test your implementation\n",
        "# CRW speed = 6,\n",
        "# wrapcauchy [c = 0.6]\n",
        "CRW_2d_df_6 = pd.read_csv('trajectories/crw_6_6.csv')\n",
        "\n",
        "# Load existing trajectories to test your implementation\n",
        "# CRW speed = 6,\n",
        "# wrapcauchy [c = 0.9]\n",
        "CRW_2d_df_9 = pd.read_csv('trajectories/crw_6_9.csv')"
      ]
    },
    {
      "cell_type": "code",
      "execution_count": null,
      "id": "82d7c0e9",
      "metadata": {
        "id": "82d7c0e9"
      },
      "outputs": [],
      "source": [
        "# aux to store turning angles\n",
        "aux_ta_CRW_2d_df_6 = np.empty(shape=(0))\n",
        "\n",
        "\n",
        "# Iterate over trajectory compute turning angles\n",
        "for index, row in CRW_2d_df_6[1:-1].iterrows():\n",
        "    ## start - Add your code here\n",
        "\n",
        "    ## end - Add your code here\n",
        "\n",
        "# aux to store turning angles\n",
        "aux_ta_CRW_2d_df_9 = np.empty(shape=(0))\n",
        "\n",
        "\n",
        "\n",
        "## start - Add your code here\n",
        "\n",
        "## end - Add your code here"
      ]
    },
    {
      "cell_type": "code",
      "execution_count": null,
      "id": "8e442503",
      "metadata": {
        "id": "8e442503"
      },
      "outputs": [],
      "source": [
        "# Define your function to compute Turning Angles for given trajectory\n",
        "\n",
        "## start - Add your code here\n",
        "# def function (trajectory):\n",
        "\n",
        "\n",
        "    #return ta_df\n",
        "\n",
        "## end - Add your code here"
      ]
    },
    {
      "cell_type": "code",
      "execution_count": null,
      "id": "71f1f594",
      "metadata": {
        "id": "71f1f594"
      },
      "outputs": [],
      "source": [
        "# Get Turning Angles calling the function\n",
        "ta_CRW_2d_df_6 = # Add your code here function(CRW_2d_df_6)\n",
        "\n",
        "# Get Turning Angles calling the function\n",
        "ta_CRW_2d_df_9 = # Add your code here function(CRW_2d_df_9)"
      ]
    },
    {
      "cell_type": "code",
      "execution_count": null,
      "id": "d0689013",
      "metadata": {
        "id": "d0689013"
      },
      "outputs": [],
      "source": [
        "# Check documentation\n",
        "# https://plotly.com/python/histograms/\n",
        "\n",
        "# PLot histogram\n",
        "fig_met_df_3 = go.Figure()\n",
        "\n",
        "\n",
        "# Histogram turning angle CRW_2d_df_6\n",
        "## start - Add your code here\n",
        "\n",
        "## end - Add your code here\n",
        "\n",
        "\n",
        "# Histogram turning angle CRW_2d_df_9\n",
        "## start - Add your code here\n",
        "\n",
        "## end - Add your code here\n",
        "\n",
        "\n",
        "# Add origin distributions\n",
        "## start - Add your code here\n",
        "\n",
        "## end - Add your code here\n",
        "\n",
        "\n",
        "fig_met_df_3.show()"
      ]
    },
    {
      "cell_type": "markdown",
      "id": "6bc5c5b6",
      "metadata": {
        "id": "6bc5c5b6"
      },
      "source": [
        "## Actividad 4: Step-length Distribution - (Dist. origen vs Dist. observada) (6 pts)\n",
        "\n",
        "* Implementar función que genere **Lévy Walks** (LW) utilizando pandas.\n",
        "* Guardar trayectorias en Pandas Data Frame.\n",
        "* Implementar una función que calcule los valores de **step lenght** de una trayectoria.\n",
        "* Guardar trayectorias en **pandas** Data Frame.\n",
        "* Obtener **Step-length** distribution.\n",
        "* Comparar en gráfica distribución origen vs distribución observada (Histograma).\n",
        "* Visualizar con plotly."
      ]
    },
    {
      "cell_type": "code",
      "execution_count": null,
      "id": "68b774d1",
      "metadata": {
        "id": "68b774d1"
      },
      "outputs": [],
      "source": [
        "# Load existing trajectories to test your implementation\n",
        "# Levy speed = 6\n",
        "# levy_stable [alpha=1.0, beta=1.0, loc=3.0]\n",
        "Levy_2d_df_1 = pd.read_csv('trajectories/levy_6_1.csv')\n",
        "\n",
        "# Load existing trajectories to test your implementation\n",
        "# Levy speed = 6\n",
        "# levy_stable [alpha=0.7, beta=1.0, loc=3.0]\n",
        "Levy_2d_df_7 = pd.read_csv('trajectories/levy_6_7.csv')"
      ]
    },
    {
      "cell_type": "code",
      "execution_count": null,
      "id": "8a6874d5",
      "metadata": {
        "id": "8a6874d5"
      },
      "outputs": [],
      "source": [
        "# Define your function to compute Step lengths for given trajectory\n",
        "\n",
        "## start - Add your code here\n",
        "# def function (trajectory):\n",
        "\n",
        "\n",
        "    #return sl_df\n",
        "\n",
        "## end - Add your code here"
      ]
    },
    {
      "cell_type": "code",
      "execution_count": null,
      "id": "fa07a12a",
      "metadata": {
        "id": "fa07a12a"
      },
      "outputs": [],
      "source": [
        "# Get Step lengths calling the function\n",
        "sl_Levy_2d_df_1 = # Add your code here function(Levy_2d_df_1)\n",
        "\n",
        "# Get Step lengths calling the function\n",
        "sl_Levy_2d_df_7 = # Add your code here function(Levy_2d_df_7)"
      ]
    },
    {
      "cell_type": "code",
      "execution_count": null,
      "id": "0a628fe5",
      "metadata": {
        "id": "0a628fe5"
      },
      "outputs": [],
      "source": [
        "# PLot histogram\n",
        "fig_met_df_4 = go.Figure()\n",
        "\n",
        "# Histogram step-length Levy_2d_df_1\n",
        "## start - Add your code here\n",
        "\n",
        "## end - Add your code here\n",
        "\n",
        "\n",
        "# Histogram step-length Levy_2d_df_7\n",
        "## start - Add your code here\n",
        "\n",
        "## end - Add your code here\n",
        "\n",
        "\n",
        "# Add origin distributions\n",
        "## start - Add your code here\n",
        "\n",
        "## end - Add your code here\n",
        "\n",
        "\n",
        "fig_met_df_4.show()"
      ]
    }
  ],
  "metadata": {
    "colab": {
      "provenance": [],
      "include_colab_link": true
    },
    "kernelspec": {
      "display_name": "py310_nb",
      "language": "python",
      "name": "py310_nb"
    },
    "language_info": {
      "codemirror_mode": {
        "name": "ipython",
        "version": 3
      },
      "file_extension": ".py",
      "mimetype": "text/x-python",
      "name": "python",
      "nbconvert_exporter": "python",
      "pygments_lexer": "ipython3",
      "version": "3.10.5"
    }
  },
  "nbformat": 4,
  "nbformat_minor": 5
}